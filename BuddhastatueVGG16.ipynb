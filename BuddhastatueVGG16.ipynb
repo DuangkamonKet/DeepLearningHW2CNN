{
 "cells": [
  {
   "cell_type": "markdown",
   "metadata": {
    "id": "ayJriA381xYD"
   },
   "source": [
    "# 1. Install Dependencies and Setup"
   ]
  },
  {
   "cell_type": "code",
   "execution_count": 1,
   "metadata": {
    "colab": {
     "base_uri": "https://localhost:8080/"
    },
    "executionInfo": {
     "elapsed": 71781,
     "status": "ok",
     "timestamp": 1665896854192,
     "user": {
      "displayName": "Kanis C",
      "userId": "12699031659889887528"
     },
     "user_tz": -420
    },
    "id": "Rm2p3yQd1xYG",
    "outputId": "a271193d-d8fe-4e00-dc38-2c88c3fe2d0f"
   },
   "outputs": [
    {
     "name": "stdout",
     "output_type": "stream",
     "text": [
      "Requirement already satisfied: tensorflow in c:\\users\\kanis\\anaconda3\\envs\\deeplearning\\lib\\site-packages (2.6.0)\n",
      "Requirement already satisfied: tensorflow-gpu in c:\\users\\kanis\\anaconda3\\envs\\deeplearning\\lib\\site-packages (2.8.3)\n",
      "Requirement already satisfied: opencv-python in c:\\users\\kanis\\anaconda3\\envs\\deeplearning\\lib\\site-packages (4.6.0.66)\n",
      "Requirement already satisfied: matplotlib in c:\\users\\kanis\\anaconda3\\envs\\deeplearning\\lib\\site-packages (3.5.3)\n",
      "Requirement already satisfied: grpcio<2.0,>=1.37.0 in c:\\users\\kanis\\anaconda3\\envs\\deeplearning\\lib\\site-packages (from tensorflow) (1.42.0)\n",
      "Requirement already satisfied: keras-preprocessing>=1.1.2 in c:\\users\\kanis\\anaconda3\\envs\\deeplearning\\lib\\site-packages (from tensorflow) (1.1.2)\n",
      "Requirement already satisfied: flatbuffers~=1.12 in c:\\users\\kanis\\anaconda3\\envs\\deeplearning\\lib\\site-packages (from tensorflow) (1.12)\n",
      "Requirement already satisfied: clang~=5.0 in c:\\users\\kanis\\anaconda3\\envs\\deeplearning\\lib\\site-packages (from tensorflow) (5.0)\n",
      "Requirement already satisfied: gast==0.4.0 in c:\\users\\kanis\\anaconda3\\envs\\deeplearning\\lib\\site-packages (from tensorflow) (0.4.0)\n",
      "Requirement already satisfied: wrapt>=1.11.2 in c:\\users\\kanis\\anaconda3\\envs\\deeplearning\\lib\\site-packages (from tensorflow) (1.14.1)\n",
      "Requirement already satisfied: termcolor>=1.1.0 in c:\\users\\kanis\\anaconda3\\envs\\deeplearning\\lib\\site-packages (from tensorflow) (1.1.0)\n",
      "Requirement already satisfied: wheel>=0.35 in c:\\users\\kanis\\anaconda3\\envs\\deeplearning\\lib\\site-packages (from tensorflow) (0.35.1)\n",
      "Requirement already satisfied: astunparse~=1.6.3 in c:\\users\\kanis\\anaconda3\\envs\\deeplearning\\lib\\site-packages (from tensorflow) (1.6.3)\n",
      "Requirement already satisfied: tensorboard~=2.6 in c:\\users\\kanis\\anaconda3\\envs\\deeplearning\\lib\\site-packages (from tensorflow) (2.8.0)\n",
      "Requirement already satisfied: typing-extensions>=3.7.4 in c:\\users\\kanis\\anaconda3\\envs\\deeplearning\\lib\\site-packages (from tensorflow) (4.3.0)\n",
      "Requirement already satisfied: absl-py~=0.10 in c:\\users\\kanis\\anaconda3\\envs\\deeplearning\\lib\\site-packages (from tensorflow) (0.15.0)\n",
      "Requirement already satisfied: h5py>=3.1.0 in c:\\users\\kanis\\anaconda3\\envs\\deeplearning\\lib\\site-packages (from tensorflow) (3.7.0)\n",
      "Requirement already satisfied: tensorflow-estimator~=2.6 in c:\\users\\kanis\\anaconda3\\envs\\deeplearning\\lib\\site-packages (from tensorflow) (2.8.0)\n",
      "Requirement already satisfied: opt-einsum~=3.3.0 in c:\\users\\kanis\\anaconda3\\envs\\deeplearning\\lib\\site-packages (from tensorflow) (3.3.0)\n",
      "Requirement already satisfied: keras>=2.4.0 in c:\\users\\kanis\\anaconda3\\envs\\deeplearning\\lib\\site-packages (from tensorflow) (2.8.0)\n",
      "Requirement already satisfied: google-pasta~=0.2 in c:\\users\\kanis\\anaconda3\\envs\\deeplearning\\lib\\site-packages (from tensorflow) (0.2.0)\n",
      "Requirement already satisfied: protobuf>=3.9.2 in c:\\users\\kanis\\anaconda3\\envs\\deeplearning\\lib\\site-packages (from tensorflow) (3.17.2)\n",
      "Requirement already satisfied: numpy>=1.19 in c:\\users\\kanis\\anaconda3\\envs\\deeplearning\\lib\\site-packages (from tensorflow) (1.22.4)\n",
      "Requirement already satisfied: six>=1.15.0 in c:\\users\\kanis\\anaconda3\\envs\\deeplearning\\lib\\site-packages (from tensorflow) (1.16.0)\n",
      "Requirement already satisfied: libclang>=9.0.1 in c:\\users\\kanis\\anaconda3\\envs\\deeplearning\\lib\\site-packages (from tensorflow-gpu) (14.0.6)\n",
      "Requirement already satisfied: tensorflow-io-gcs-filesystem>=0.23.1 in c:\\users\\kanis\\anaconda3\\envs\\deeplearning\\lib\\site-packages (from tensorflow-gpu) (0.26.0)\n",
      "Requirement already satisfied: setuptools in c:\\users\\kanis\\anaconda3\\envs\\deeplearning\\lib\\site-packages (from tensorflow-gpu) (61.2.0)\n",
      "Requirement already satisfied: pillow>=6.2.0 in c:\\users\\kanis\\anaconda3\\envs\\deeplearning\\lib\\site-packages (from matplotlib) (9.2.0)\n",
      "Requirement already satisfied: python-dateutil>=2.7 in c:\\users\\kanis\\anaconda3\\envs\\deeplearning\\lib\\site-packages (from matplotlib) (2.8.2)\n",
      "Requirement already satisfied: pyparsing>=2.2.1 in c:\\users\\kanis\\anaconda3\\envs\\deeplearning\\lib\\site-packages (from matplotlib) (3.0.4)\n",
      "Requirement already satisfied: cycler>=0.10 in c:\\users\\kanis\\anaconda3\\envs\\deeplearning\\lib\\site-packages (from matplotlib) (0.11.0)\n",
      "Requirement already satisfied: fonttools>=4.22.0 in c:\\users\\kanis\\anaconda3\\envs\\deeplearning\\lib\\site-packages (from matplotlib) (4.34.4)\n",
      "Requirement already satisfied: kiwisolver>=1.0.1 in c:\\users\\kanis\\anaconda3\\envs\\deeplearning\\lib\\site-packages (from matplotlib) (1.4.4)\n",
      "Requirement already satisfied: packaging>=20.0 in c:\\users\\kanis\\anaconda3\\envs\\deeplearning\\lib\\site-packages (from matplotlib) (21.3)\n",
      "Requirement already satisfied: tensorboard-plugin-wit>=1.6.0 in c:\\users\\kanis\\anaconda3\\envs\\deeplearning\\lib\\site-packages (from tensorboard~=2.6->tensorflow) (1.6.0)\n",
      "Requirement already satisfied: werkzeug>=0.11.15 in c:\\users\\kanis\\anaconda3\\envs\\deeplearning\\lib\\site-packages (from tensorboard~=2.6->tensorflow) (2.0.3)\n",
      "Requirement already satisfied: tensorboard-data-server<0.7.0,>=0.6.0 in c:\\users\\kanis\\anaconda3\\envs\\deeplearning\\lib\\site-packages (from tensorboard~=2.6->tensorflow) (0.6.0)\n",
      "Requirement already satisfied: google-auth<3,>=1.6.3 in c:\\users\\kanis\\anaconda3\\envs\\deeplearning\\lib\\site-packages (from tensorboard~=2.6->tensorflow) (1.35.0)\n",
      "Requirement already satisfied: markdown>=2.6.8 in c:\\users\\kanis\\anaconda3\\envs\\deeplearning\\lib\\site-packages (from tensorboard~=2.6->tensorflow) (3.3.4)\n",
      "Requirement already satisfied: requests<3,>=2.21.0 in c:\\users\\kanis\\anaconda3\\envs\\deeplearning\\lib\\site-packages (from tensorboard~=2.6->tensorflow) (2.28.1)\n",
      "Requirement already satisfied: google-auth-oauthlib<0.5,>=0.4.1 in c:\\users\\kanis\\anaconda3\\envs\\deeplearning\\lib\\site-packages (from tensorboard~=2.6->tensorflow) (0.4.1)\n",
      "Requirement already satisfied: pyasn1-modules>=0.2.1 in c:\\users\\kanis\\anaconda3\\envs\\deeplearning\\lib\\site-packages (from google-auth<3,>=1.6.3->tensorboard~=2.6->tensorflow) (0.2.8)\n",
      "Requirement already satisfied: rsa<5,>=3.1.4 in c:\\users\\kanis\\anaconda3\\envs\\deeplearning\\lib\\site-packages (from google-auth<3,>=1.6.3->tensorboard~=2.6->tensorflow) (4.7.2)\n",
      "Requirement already satisfied: cachetools<5.0,>=2.0.0 in c:\\users\\kanis\\anaconda3\\envs\\deeplearning\\lib\\site-packages (from google-auth<3,>=1.6.3->tensorboard~=2.6->tensorflow) (4.2.2)\n",
      "Requirement already satisfied: requests-oauthlib>=0.7.0 in c:\\users\\kanis\\anaconda3\\envs\\deeplearning\\lib\\site-packages (from google-auth-oauthlib<0.5,>=0.4.1->tensorboard~=2.6->tensorflow) (1.3.0)\n",
      "Requirement already satisfied: idna<4,>=2.5 in c:\\users\\kanis\\anaconda3\\envs\\deeplearning\\lib\\site-packages (from requests<3,>=2.21.0->tensorboard~=2.6->tensorflow) (3.3)\n",
      "Requirement already satisfied: urllib3<1.27,>=1.21.1 in c:\\users\\kanis\\anaconda3\\envs\\deeplearning\\lib\\site-packages (from requests<3,>=2.21.0->tensorboard~=2.6->tensorflow) (1.26.11)\n",
      "Requirement already satisfied: certifi>=2017.4.17 in c:\\users\\kanis\\anaconda3\\envs\\deeplearning\\lib\\site-packages (from requests<3,>=2.21.0->tensorboard~=2.6->tensorflow) (2022.6.15)\n",
      "Requirement already satisfied: charset-normalizer<3,>=2 in c:\\users\\kanis\\anaconda3\\envs\\deeplearning\\lib\\site-packages (from requests<3,>=2.21.0->tensorboard~=2.6->tensorflow) (2.0.4)\n",
      "Requirement already satisfied: pyasn1<0.5.0,>=0.4.6 in c:\\users\\kanis\\anaconda3\\envs\\deeplearning\\lib\\site-packages (from pyasn1-modules>=0.2.1->google-auth<3,>=1.6.3->tensorboard~=2.6->tensorflow) (0.4.8)\n",
      "Requirement already satisfied: oauthlib>=3.0.0 in c:\\users\\kanis\\anaconda3\\envs\\deeplearning\\lib\\site-packages (from requests-oauthlib>=0.7.0->google-auth-oauthlib<0.5,>=0.4.1->tensorboard~=2.6->tensorflow) (3.2.0)\n"
     ]
    }
   ],
   "source": [
    "!pip install tensorflow tensorflow-gpu opencv-python matplotlib\n",
    "from tensorflow.keras.models import Sequential\n",
    "from tensorflow.keras.layers import Conv2D, MaxPooling2D, Dense, Flatten, Dropout,BatchNormalization\n",
    "import tensorflow as tf\n",
    "import os\n",
    "import cv2\n",
    "import imghdr\n",
    "import numpy as np\n",
    "from matplotlib import pyplot as plt\n",
    "from keras.preprocessing.image import ImageDataGenerator\n",
    "from tensorflow.keras.models import Sequential\n",
    "from tensorflow.keras.layers import Conv2D, MaxPooling2D, Dense, Flatten, Dropout,BatchNormalization"
   ]
  },
  {
   "cell_type": "code",
   "execution_count": 2,
   "metadata": {
    "executionInfo": {
     "elapsed": 14,
     "status": "ok",
     "timestamp": 1665896856626,
     "user": {
      "displayName": "Kanis C",
      "userId": "12699031659889887528"
     },
     "user_tz": -420
    },
    "id": "l4Hhw06K-xdb"
   },
   "outputs": [],
   "source": [
    "from keras.applications.vgg16 import preprocess_input\n"
   ]
  },
  {
   "cell_type": "code",
   "execution_count": 3,
   "metadata": {
    "executionInfo": {
     "elapsed": 10,
     "status": "ok",
     "timestamp": 1665896857419,
     "user": {
      "displayName": "Kanis C",
      "userId": "12699031659889887528"
     },
     "user_tz": -420
    },
    "id": "AuMBsF2u1xYJ"
   },
   "outputs": [],
   "source": [
    "# Avoid OOM errors by setting GPU Memory Consumption Growth\n",
    "gpus = tf.config.experimental.list_physical_devices('GPU')\n",
    "for gpu in gpus: \n",
    "    tf.config.experimental.set_memory_growth(gpu, True)"
   ]
  },
  {
   "cell_type": "code",
   "execution_count": 4,
   "metadata": {
    "colab": {
     "base_uri": "https://localhost:8080/"
    },
    "executionInfo": {
     "elapsed": 10,
     "status": "ok",
     "timestamp": 1665896857420,
     "user": {
      "displayName": "Kanis C",
      "userId": "12699031659889887528"
     },
     "user_tz": -420
    },
    "id": "KkbedyNz1xYJ",
    "outputId": "e47ed30b-0f17-494d-d648-aa80e5cdf094"
   },
   "outputs": [
    {
     "data": {
      "text/plain": [
       "[PhysicalDevice(name='/physical_device:GPU:0', device_type='GPU')]"
      ]
     },
     "execution_count": 4,
     "metadata": {},
     "output_type": "execute_result"
    }
   ],
   "source": [
    "tf.config.list_physical_devices('GPU')"
   ]
  },
  {
   "cell_type": "markdown",
   "metadata": {
    "id": "_1ppR0Tp1xYJ"
   },
   "source": [
    "# 2. Map google Drive\n"
   ]
  },
  {
   "cell_type": "code",
   "execution_count": 5,
   "metadata": {
    "colab": {
     "base_uri": "https://localhost:8080/"
    },
    "executionInfo": {
     "elapsed": 8183,
     "status": "ok",
     "timestamp": 1665897492220,
     "user": {
      "displayName": "Kanis C",
      "userId": "12699031659889887528"
     },
     "user_tz": -420
    },
    "id": "FeVMCaVq1xYK",
    "outputId": "0a66b8fa-f088-484e-e865-8463a31c6e64"
   },
   "outputs": [],
   "source": [
    "#from google.colab import drive\n",
    "#drive.mount('/content/drive/', force_remount=True)\n",
    "#!cp -r 'drive/Othercomputers/KaiAIPC/KanisPC/nida/7202 deep learning/HW2/BuddhastatueData' '/content/data'\n",
    "\n",
    "train_dir='data/train/'\n",
    "validate_dir='data/validate/'\n",
    "test_dir='data/test/'\n"
   ]
  },
  {
   "cell_type": "code",
   "execution_count": 6,
   "metadata": {
    "executionInfo": {
     "elapsed": 536,
     "status": "ok",
     "timestamp": 1665897506830,
     "user": {
      "displayName": "Kanis C",
      "userId": "12699031659889887528"
     },
     "user_tz": -420
    },
    "id": "212XHIxaM7Zd"
   },
   "outputs": [],
   "source": [
    "import random\n",
    "import numpy as np\n",
    "import tensorflow as tf\n",
    "seed=1111\n",
    "random.seed(seed)\n",
    "np.random.seed(seed)\n",
    "tf.random.set_seed(seed)"
   ]
  },
  {
   "cell_type": "markdown",
   "metadata": {
    "id": "S0SJWHod1xYL"
   },
   "source": [
    "# 3. Load Data"
   ]
  },
  {
   "cell_type": "code",
   "execution_count": 7,
   "metadata": {
    "colab": {
     "base_uri": "https://localhost:8080/"
    },
    "executionInfo": {
     "elapsed": 562,
     "status": "ok",
     "timestamp": 1665897514168,
     "user": {
      "displayName": "Kanis C",
      "userId": "12699031659889887528"
     },
     "user_tz": -420
    },
    "id": "fyS97vCU1xYL",
    "outputId": "25461e6d-c3d6-476d-ae68-526ad6a4e429"
   },
   "outputs": [
    {
     "name": "stdout",
     "output_type": "stream",
     "text": [
      "Found 1112 images belonging to 8 classes.\n",
      "Found 368 images belonging to 8 classes.\n"
     ]
    }
   ],
   "source": [
    "img_w=256\n",
    "img_h=256\n",
    "num_classes = 8\n",
    "my_batch_size=32\n",
    "\n",
    "\n",
    "train_datagen_aug = ImageDataGenerator(\n",
    "    rescale=1./255,\n",
    "    #rotation_range=40,\n",
    "    #width_shift_range=0.2,\n",
    "    #height_shift_range=0.2,\n",
    "    #shear_range=0.2,\n",
    "    #zoom_range=0.2,\n",
    "    #brightness_range=(0.5,0.8),\n",
    "    #horizontal_flip=True,\n",
    "    preprocessing_function=preprocess_input)\n",
    "\n",
    "validate_datagen_aug = ImageDataGenerator(\n",
    "    rescale=1./255,\n",
    "   preprocessing_function=preprocess_input)\n",
    "\n",
    "\n",
    "train_generator_aug = train_datagen_aug.flow_from_directory(\n",
    "    train_dir,\n",
    "    target_size=(img_w, img_h),\n",
    "    batch_size=my_batch_size,\n",
    "    class_mode='categorical')\n",
    "\n",
    "valid_generator_aug = validate_datagen_aug.flow_from_directory(\n",
    "    validate_dir,\n",
    "    target_size=(img_w, img_h),\n",
    "    batch_size=my_batch_size,\n",
    "    class_mode='categorical')\n",
    "\n",
    "\n",
    "\n"
   ]
  },
  {
   "cell_type": "markdown",
   "metadata": {
    "id": "Tqo5c7ly1xYP"
   },
   "source": [
    "# 6. Build Deep Learning Model"
   ]
  },
  {
   "cell_type": "code",
   "execution_count": 24,
   "metadata": {
    "colab": {
     "base_uri": "https://localhost:8080/"
    },
    "executionInfo": {
     "elapsed": 1986,
     "status": "ok",
     "timestamp": 1665897516694,
     "user": {
      "displayName": "Kanis C",
      "userId": "12699031659889887528"
     },
     "user_tz": -420
    },
    "id": "cehhbuZy1xYQ",
    "outputId": "d84c8ac2-5571-40d2-9e79-8e67c2a3fd4a"
   },
   "outputs": [
    {
     "name": "stdout",
     "output_type": "stream",
     "text": [
      "Model: \"vgg16\"\n",
      "_________________________________________________________________\n",
      " Layer (type)                Output Shape              Param #   \n",
      "=================================================================\n",
      " input_3 (InputLayer)        [(None, 256, 256, 3)]     0         \n",
      "                                                                 \n",
      " block1_conv1 (Conv2D)       (None, 256, 256, 64)      1792      \n",
      "                                                                 \n",
      " block1_conv2 (Conv2D)       (None, 256, 256, 64)      36928     \n",
      "                                                                 \n",
      " block1_pool (MaxPooling2D)  (None, 128, 128, 64)      0         \n",
      "                                                                 \n",
      " block2_conv1 (Conv2D)       (None, 128, 128, 128)     73856     \n",
      "                                                                 \n",
      " block2_conv2 (Conv2D)       (None, 128, 128, 128)     147584    \n",
      "                                                                 \n",
      " block2_pool (MaxPooling2D)  (None, 64, 64, 128)       0         \n",
      "                                                                 \n",
      " block3_conv1 (Conv2D)       (None, 64, 64, 256)       295168    \n",
      "                                                                 \n",
      " block3_conv2 (Conv2D)       (None, 64, 64, 256)       590080    \n",
      "                                                                 \n",
      " block3_conv3 (Conv2D)       (None, 64, 64, 256)       590080    \n",
      "                                                                 \n",
      " block3_pool (MaxPooling2D)  (None, 32, 32, 256)       0         \n",
      "                                                                 \n",
      " block4_conv1 (Conv2D)       (None, 32, 32, 512)       1180160   \n",
      "                                                                 \n",
      " block4_conv2 (Conv2D)       (None, 32, 32, 512)       2359808   \n",
      "                                                                 \n",
      " block4_conv3 (Conv2D)       (None, 32, 32, 512)       2359808   \n",
      "                                                                 \n",
      " block4_pool (MaxPooling2D)  (None, 16, 16, 512)       0         \n",
      "                                                                 \n",
      " block5_conv1 (Conv2D)       (None, 16, 16, 512)       2359808   \n",
      "                                                                 \n",
      " block5_conv2 (Conv2D)       (None, 16, 16, 512)       2359808   \n",
      "                                                                 \n",
      " block5_conv3 (Conv2D)       (None, 16, 16, 512)       2359808   \n",
      "                                                                 \n",
      " block5_pool (MaxPooling2D)  (None, 8, 8, 512)         0         \n",
      "                                                                 \n",
      "=================================================================\n",
      "Total params: 14,714,688\n",
      "Trainable params: 14,714,688\n",
      "Non-trainable params: 0\n",
      "_________________________________________________________________\n"
     ]
    }
   ],
   "source": [
    "\n",
    "extractor = tf.keras.applications.vgg16.VGG16(weights = \"imagenet\", include_top=False, input_shape = (img_w, img_h, 3))\n",
    "\n",
    "extractor.summary()"
   ]
  },
  {
   "cell_type": "code",
   "execution_count": 25,
   "metadata": {
    "colab": {
     "base_uri": "https://localhost:8080/"
    },
    "executionInfo": {
     "elapsed": 7,
     "status": "ok",
     "timestamp": 1665897557406,
     "user": {
      "displayName": "Kanis C",
      "userId": "12699031659889887528"
     },
     "user_tz": -420
    },
    "id": "dWNhg2cJLvgP",
    "outputId": "0e08944a-c42d-4f81-850c-fea5920a8a48"
   },
   "outputs": [
    {
     "name": "stdout",
     "output_type": "stream",
     "text": [
      "Model: \"sequential_5\"\n",
      "_________________________________________________________________\n",
      " Layer (type)                Output Shape              Param #   \n",
      "=================================================================\n",
      " sequential_4 (Sequential)   (None, 256, 256, 3)       7         \n",
      "                                                                 \n",
      " vgg16 (Functional)          (None, 8, 8, 512)         14714688  \n",
      "                                                                 \n",
      " flatten_2 (Flatten)         (None, 32768)             0         \n",
      "                                                                 \n",
      " dense_8 (Dense)             (None, 512)               16777728  \n",
      "                                                                 \n",
      " dropout_4 (Dropout)         (None, 512)               0         \n",
      "                                                                 \n",
      " dense_9 (Dense)             (None, 128)               65664     \n",
      "                                                                 \n",
      " dropout_5 (Dropout)         (None, 128)               0         \n",
      "                                                                 \n",
      " dense_10 (Dense)            (None, 64)                8256      \n",
      "                                                                 \n",
      " dense_11 (Dense)            (None, 8)                 520       \n",
      "                                                                 \n",
      "=================================================================\n",
      "Total params: 31,566,863\n",
      "Trainable params: 19,211,976\n",
      "Non-trainable params: 12,354,887\n",
      "_________________________________________________________________\n"
     ]
    }
   ],
   "source": [
    "##Best Set\n",
    "from tensorflow.keras import layers    \n",
    "    \n",
    "extractor.trainable = True\n",
    "for i,layer in enumerate(extractor.layers):  \n",
    "    layer.trainable=False\n",
    "\n",
    "\n",
    "#b = extractor.get_layer('block5_conv1') \n",
    "#b.trainable = True \n",
    "#b = extractor.get_layer('block5_conv2') \n",
    "#b.trainable = True \n",
    "b = extractor.get_layer('block5_conv3') \n",
    "b.trainable = True \n",
    "\n",
    "\n",
    "\n",
    "\n",
    "\n",
    "\n",
    "data_augmentation = Sequential(\n",
    "    [\n",
    "        layers.RandomFlip(\"horizontal\"),\n",
    "        layers.RandomRotation(0.1),\n",
    "        layers.Normalization(),\n",
    "        layers.RandomFlip(\"horizontal\"),\n",
    "        layers.RandomRotation(factor=0.1),\n",
    "        layers.RandomContrast(factor=0.1),\n",
    "        layers.RandomZoom(height_factor=0.2, width_factor=0.2),\n",
    "    ]\n",
    ")\n",
    "\n",
    "model = Sequential()   \n",
    "model.add(data_augmentation)\n",
    "model.add(extractor)\n",
    "\n",
    "\n",
    "# Add our custom layer(s) to the end of the existing model \n",
    "\n",
    "#model.add(Conv2D( filters=32, kernel_size=(5,5), strides=(1,1), padding=\"same\", activation='relu', name='our_conv1' ) )\n",
    "#model.add(Dropout(0.1))\n",
    "#model.add(Conv2D( filters=32, kernel_size=(3,3), strides=(1,1), padding=\"same\", activation='relu', name='our_conv2' ) )\n",
    "#model.add(Conv2D(32, (3,3), 1, activation='relu'))\n",
    "#model.add(MaxPooling2D())\n",
    "\n",
    "model.add(Flatten())\n",
    "model.add(Dense(512, activation=\"relu\"))\n",
    "model.add(Dropout(0.4))\n",
    "\n",
    "model.add(Dense(128,activation='relu'))\n",
    "model.add(Dropout(0.4))\n",
    "\n",
    "model.add(Dense(64,activation='relu'))\n",
    "\n",
    "\n",
    "model.add(Dense(units=num_classes, activation=\"softmax\"))\n",
    "model.compile('adam', loss='categorical_crossentropy', metrics=['accuracy'])\n",
    "\n",
    "model.build((None,img_w,img_h,3))\n",
    "model.summary()"
   ]
  },
  {
   "cell_type": "markdown",
   "metadata": {
    "id": "89gQHWQe1xYS"
   },
   "source": [
    "# 7. Train"
   ]
  },
  {
   "cell_type": "code",
   "execution_count": 26,
   "metadata": {
    "executionInfo": {
     "elapsed": 3,
     "status": "ok",
     "timestamp": 1665897557406,
     "user": {
      "displayName": "Kanis C",
      "userId": "12699031659889887528"
     },
     "user_tz": -420
    },
    "id": "WidFY20f1xYS"
   },
   "outputs": [],
   "source": [
    "logdir='logsvgg16'"
   ]
  },
  {
   "cell_type": "code",
   "execution_count": 27,
   "metadata": {
    "executionInfo": {
     "elapsed": 3,
     "status": "ok",
     "timestamp": 1665897557406,
     "user": {
      "displayName": "Kanis C",
      "userId": "12699031659889887528"
     },
     "user_tz": -420
    },
    "id": "MgqH5Nx01xYS"
   },
   "outputs": [],
   "source": [
    "tensorboard_callback = tf.keras.callbacks.TensorBoard(log_dir=logdir)"
   ]
  },
  {
   "cell_type": "code",
   "execution_count": 28,
   "metadata": {
    "colab": {
     "base_uri": "https://localhost:8080/"
    },
    "executionInfo": {
     "elapsed": 1011351,
     "status": "ok",
     "timestamp": 1665898568754,
     "user": {
      "displayName": "Kanis C",
      "userId": "12699031659889887528"
     },
     "user_tz": -420
    },
    "id": "Y5t9EtjV1xYX",
    "outputId": "aa9d3bf8-b058-4009-d59b-655a55aaa239",
    "scrolled": false
   },
   "outputs": [
    {
     "name": "stdout",
     "output_type": "stream",
     "text": [
      "Epoch 1/20\n",
      "35/35 [==============================] - 9s 201ms/step - loss: 2.1887 - accuracy: 0.1987 - val_loss: 1.7006 - val_accuracy: 0.3859\n",
      "Epoch 2/20\n",
      "35/35 [==============================] - 7s 195ms/step - loss: 1.6358 - accuracy: 0.3903 - val_loss: 1.4196 - val_accuracy: 0.4484\n",
      "Epoch 3/20\n",
      "35/35 [==============================] - 7s 203ms/step - loss: 1.3425 - accuracy: 0.4910 - val_loss: 1.3203 - val_accuracy: 0.5679\n",
      "Epoch 4/20\n",
      "35/35 [==============================] - 7s 196ms/step - loss: 1.2302 - accuracy: 0.5450 - val_loss: 1.2021 - val_accuracy: 0.5978\n",
      "Epoch 5/20\n",
      "35/35 [==============================] - 7s 210ms/step - loss: 1.1054 - accuracy: 0.5962 - val_loss: 1.1583 - val_accuracy: 0.6630\n",
      "Epoch 6/20\n",
      "35/35 [==============================] - 7s 203ms/step - loss: 1.0296 - accuracy: 0.6385 - val_loss: 1.0880 - val_accuracy: 0.6223\n",
      "Epoch 7/20\n",
      "35/35 [==============================] - 7s 203ms/step - loss: 0.9625 - accuracy: 0.6556 - val_loss: 1.0380 - val_accuracy: 0.6957\n",
      "Epoch 8/20\n",
      "35/35 [==============================] - 7s 208ms/step - loss: 0.8532 - accuracy: 0.7050 - val_loss: 1.0135 - val_accuracy: 0.6576\n",
      "Epoch 9/20\n",
      "35/35 [==============================] - 7s 212ms/step - loss: 0.7857 - accuracy: 0.7374 - val_loss: 1.0694 - val_accuracy: 0.6630\n",
      "Epoch 10/20\n",
      "35/35 [==============================] - 7s 206ms/step - loss: 0.7670 - accuracy: 0.7338 - val_loss: 0.9794 - val_accuracy: 0.6821\n",
      "Epoch 11/20\n",
      "35/35 [==============================] - 7s 203ms/step - loss: 0.7269 - accuracy: 0.7482 - val_loss: 1.0453 - val_accuracy: 0.7065\n",
      "Epoch 12/20\n",
      "35/35 [==============================] - 7s 210ms/step - loss: 0.6870 - accuracy: 0.7779 - val_loss: 1.0235 - val_accuracy: 0.6902\n",
      "Epoch 13/20\n",
      "35/35 [==============================] - 7s 207ms/step - loss: 0.5928 - accuracy: 0.8004 - val_loss: 1.1119 - val_accuracy: 0.6875\n",
      "Epoch 14/20\n",
      "35/35 [==============================] - 7s 195ms/step - loss: 0.5731 - accuracy: 0.8076 - val_loss: 1.0830 - val_accuracy: 0.7255\n",
      "Epoch 15/20\n",
      "35/35 [==============================] - 8s 213ms/step - loss: 0.5845 - accuracy: 0.8246 - val_loss: 1.0570 - val_accuracy: 0.6984\n",
      "Epoch 16/20\n",
      "35/35 [==============================] - 7s 195ms/step - loss: 0.5892 - accuracy: 0.7923 - val_loss: 1.1589 - val_accuracy: 0.7147\n",
      "Epoch 17/20\n",
      "35/35 [==============================] - 7s 192ms/step - loss: 0.5280 - accuracy: 0.8309 - val_loss: 0.9691 - val_accuracy: 0.7310\n",
      "Epoch 18/20\n",
      "35/35 [==============================] - 7s 198ms/step - loss: 0.4862 - accuracy: 0.8480 - val_loss: 1.1301 - val_accuracy: 0.7418\n",
      "Epoch 19/20\n",
      "35/35 [==============================] - 7s 195ms/step - loss: 0.4987 - accuracy: 0.8381 - val_loss: 1.2451 - val_accuracy: 0.6957\n",
      "Epoch 20/20\n",
      "35/35 [==============================] - 7s 192ms/step - loss: 0.4579 - accuracy: 0.8462 - val_loss: 1.3110 - val_accuracy: 0.6957\n",
      "####################################\n",
      "#  Training time = 144.80475068092346 seconds ---\n"
     ]
    }
   ],
   "source": [
    "import time\n",
    "start_time = time.time()\n",
    "hist = model.fit(train_generator_aug,epochs=20, validation_data=valid_generator_aug, callbacks=[tensorboard_callback])\n",
    "end_time = time.time()\n",
    "print('####################################')\n",
    "print('#  Training time = %s seconds ---' % (end_time - start_time))"
   ]
  },
  {
   "cell_type": "markdown",
   "metadata": {
    "id": "osFgB7BJ1xYX"
   },
   "source": [
    "# 8. Plot Performance"
   ]
  },
  {
   "cell_type": "code",
   "execution_count": 29,
   "metadata": {
    "colab": {
     "base_uri": "https://localhost:8080/",
     "height": 294
    },
    "executionInfo": {
     "elapsed": 14,
     "status": "ok",
     "timestamp": 1665898568755,
     "user": {
      "displayName": "Kanis C",
      "userId": "12699031659889887528"
     },
     "user_tz": -420
    },
    "id": "oPQ6mBTy1xYX",
    "outputId": "2e49e420-c07a-44d4-c60e-2f86c7b3a4cb"
   },
   "outputs": [
    {
     "data": {
      "image/png": "[encoded data removed]",
      "text/plain": [
       "<Figure size 432x288 with 1 Axes>"
      ]
     },
     "metadata": {
      "needs_background": "light"
     },
     "output_type": "display_data"
    }
   ],
   "source": [
    "fig = plt.figure()\n",
    "plt.plot(hist.history['loss'], color='teal', label='loss')\n",
    "plt.plot(hist.history['val_loss'], color='orange', label='val_loss')\n",
    "fig.suptitle('Loss', fontsize=20)\n",
    "plt.legend(loc=\"upper left\")\n",
    "plt.show()"
   ]
  },
  {
   "cell_type": "code",
   "execution_count": 30,
   "metadata": {
    "colab": {
     "base_uri": "https://localhost:8080/",
     "height": 294
    },
    "executionInfo": {
     "elapsed": 11,
     "status": "ok",
     "timestamp": 1665898568755,
     "user": {
      "displayName": "Kanis C",
      "userId": "12699031659889887528"
     },
     "user_tz": -420
    },
    "id": "EbFORSVg1xYY",
    "outputId": "b3f38d46-6bf5-468f-f66e-503a2b416a21"
   },
   "outputs": [
    {
     "data": {
      "image/png": "[encoded data removed]",
      "text/plain": [
       "<Figure size 432x288 with 1 Axes>"
      ]
     },
     "metadata": {
      "needs_background": "light"
     },
     "output_type": "display_data"
    }
   ],
   "source": [
    "fig = plt.figure()\n",
    "plt.plot(hist.history['accuracy'], color='teal', label='accuracy')\n",
    "plt.plot(hist.history['val_accuracy'], color='orange', label='val_accuracy')\n",
    "fig.suptitle('Accuracy', fontsize=20)\n",
    "plt.legend(loc=\"upper left\")\n",
    "plt.show()"
   ]
  },
  {
   "cell_type": "markdown",
   "metadata": {
    "id": "ZIbhDeOFyeOT"
   },
   "source": [
    "# Evaluation\n"
   ]
  },
  {
   "cell_type": "code",
   "execution_count": 31,
   "metadata": {
    "colab": {
     "base_uri": "https://localhost:8080/"
    },
    "executionInfo": {
     "elapsed": 5773,
     "status": "ok",
     "timestamp": 1665898574519,
     "user": {
      "displayName": "Kanis C",
      "userId": "12699031659889887528"
     },
     "user_tz": -420
    },
    "id": "WYqt2QojyeOU",
    "outputId": "fe8fb190-eb38-4fa8-8f5f-216bacd0e3ec"
   },
   "outputs": [
    {
     "name": "stdout",
     "output_type": "stream",
     "text": [
      "Found 372 images belonging to 8 classes.\n",
      "12/12 [==============================] - 2s 180ms/step - loss: 1.0740 - accuracy: 0.7500\n",
      "Loss:  1.074022650718689 Accuracy:  0.75\n",
      "####################################\n",
      "#  Inference time = 2.363434314727783 seconds ---\n"
     ]
    }
   ],
   "source": [
    "\n",
    "# evaluate model\n",
    "\n",
    "test_datagen_aug = ImageDataGenerator(\n",
    "    rescale=1./255,\n",
    "   preprocessing_function=preprocess_input)\n",
    "\n",
    "test_it = test_datagen_aug.flow_from_directory(test_dir, target_size=(img_w, img_h),\n",
    "    batch_size=my_batch_size,\n",
    "    class_mode='categorical')\n",
    "\n",
    "\n",
    "start_time = time.time()\n",
    "\n",
    "score = model.evaluate(test_it)\n",
    "\n",
    "end_time = time.time()\n",
    "\n",
    "print(\"Loss: \", score[0], \"Accuracy: \", score[1])\n",
    "print('####################################')\n",
    "print('#  Inference time = %s seconds ---' % (end_time - start_time))\n",
    "\n",
    "\n"
   ]
  },
  {
   "cell_type": "markdown",
   "metadata": {
    "id": "tmVeOOdU1xYa"
   },
   "source": [
    "# 11. Save the Model"
   ]
  },
  {
   "cell_type": "code",
   "execution_count": 32,
   "metadata": {
    "executionInfo": {
     "elapsed": 4,
     "status": "ok",
     "timestamp": 1665898574519,
     "user": {
      "displayName": "Kanis C",
      "userId": "12699031659889887528"
     },
     "user_tz": -420
    },
    "id": "XbsG5wMT1xYa"
   },
   "outputs": [],
   "source": [
    "from tensorflow.keras.models import load_model"
   ]
  },
  {
   "cell_type": "code",
   "execution_count": 33,
   "metadata": {
    "executionInfo": {
     "elapsed": 793,
     "status": "ok",
     "timestamp": 1665898575309,
     "user": {
      "displayName": "Kanis C",
      "userId": "12699031659889887528"
     },
     "user_tz": -420
    },
    "id": "Pvl8KBXB1xYa"
   },
   "outputs": [],
   "source": [
    "model.save(os.path.join('models','BuddhastatueDataimageclassifiervgg16.h5'))"
   ]
  },
  {
   "cell_type": "code",
   "execution_count": 34,
   "metadata": {
    "executionInfo": {
     "elapsed": 778,
     "status": "ok",
     "timestamp": 1665897555993,
     "user": {
      "displayName": "Kanis C",
      "userId": "12699031659889887528"
     },
     "user_tz": -420
    },
    "id": "MT-edr161xYa"
   },
   "outputs": [
    {
     "ename": "ValueError",
     "evalue": "All `axis` values to be kept must have known shape. Got axis: (-1,), input shape: [None, None, None, None], with unknown axis at index: 3",
     "output_type": "error",
     "traceback": [
      "\u001b[1;31m---------------------------------------------------------------------------\u001b[0m",
      "\u001b[1;31mValueError\u001b[0m                                Traceback (most recent call last)",
      "Input \u001b[1;32mIn [34]\u001b[0m, in \u001b[0;36m<cell line: 1>\u001b[1;34m()\u001b[0m\n\u001b[1;32m----> 1\u001b[0m new_model \u001b[38;5;241m=\u001b[39m \u001b[43mload_model\u001b[49m\u001b[43m(\u001b[49m\u001b[38;5;124;43m'\u001b[39;49m\u001b[38;5;124;43mmodels/BuddhastatueDataimageclassifiervgg16.h5\u001b[39;49m\u001b[38;5;124;43m'\u001b[39;49m\u001b[43m)\u001b[49m\n",
      "File \u001b[1;32m~\\anaconda3\\envs\\deeplearning\\lib\\site-packages\\keras\\utils\\traceback_utils.py:67\u001b[0m, in \u001b[0;36mfilter_traceback.<locals>.error_handler\u001b[1;34m(*args, **kwargs)\u001b[0m\n\u001b[0;32m     65\u001b[0m \u001b[38;5;28;01mexcept\u001b[39;00m \u001b[38;5;167;01mException\u001b[39;00m \u001b[38;5;28;01mas\u001b[39;00m e:  \u001b[38;5;66;03m# pylint: disable=broad-except\u001b[39;00m\n\u001b[0;32m     66\u001b[0m   filtered_tb \u001b[38;5;241m=\u001b[39m _process_traceback_frames(e\u001b[38;5;241m.\u001b[39m__traceback__)\n\u001b[1;32m---> 67\u001b[0m   \u001b[38;5;28;01mraise\u001b[39;00m e\u001b[38;5;241m.\u001b[39mwith_traceback(filtered_tb) \u001b[38;5;28;01mfrom\u001b[39;00m \u001b[38;5;28mNone\u001b[39m\n\u001b[0;32m     68\u001b[0m \u001b[38;5;28;01mfinally\u001b[39;00m:\n\u001b[0;32m     69\u001b[0m   \u001b[38;5;28;01mdel\u001b[39;00m filtered_tb\n",
      "File \u001b[1;32m~\\anaconda3\\envs\\deeplearning\\lib\\site-packages\\keras\\layers\\preprocessing\\normalization.py:150\u001b[0m, in \u001b[0;36mNormalization.build\u001b[1;34m(self, input_shape)\u001b[0m\n\u001b[0;32m    148\u001b[0m \u001b[38;5;28;01mfor\u001b[39;00m d \u001b[38;5;129;01min\u001b[39;00m \u001b[38;5;28mself\u001b[39m\u001b[38;5;241m.\u001b[39m_keep_axis:\n\u001b[0;32m    149\u001b[0m   \u001b[38;5;28;01mif\u001b[39;00m input_shape[d] \u001b[38;5;129;01mis\u001b[39;00m \u001b[38;5;28;01mNone\u001b[39;00m:\n\u001b[1;32m--> 150\u001b[0m     \u001b[38;5;28;01mraise\u001b[39;00m \u001b[38;5;167;01mValueError\u001b[39;00m(\n\u001b[0;32m    151\u001b[0m         \u001b[38;5;124m'\u001b[39m\u001b[38;5;124mAll `axis` values to be kept must have known shape. Got axis: \u001b[39m\u001b[38;5;132;01m{}\u001b[39;00m\u001b[38;5;124m, \u001b[39m\u001b[38;5;124m'\u001b[39m\n\u001b[0;32m    152\u001b[0m         \u001b[38;5;124m'\u001b[39m\u001b[38;5;124minput shape: \u001b[39m\u001b[38;5;132;01m{}\u001b[39;00m\u001b[38;5;124m, with unknown axis at index: \u001b[39m\u001b[38;5;132;01m{}\u001b[39;00m\u001b[38;5;124m'\u001b[39m\u001b[38;5;241m.\u001b[39mformat(\n\u001b[0;32m    153\u001b[0m             \u001b[38;5;28mself\u001b[39m\u001b[38;5;241m.\u001b[39maxis, input_shape, d))\n\u001b[0;32m    154\u001b[0m \u001b[38;5;66;03m# Axes to be reduced.\u001b[39;00m\n\u001b[0;32m    155\u001b[0m \u001b[38;5;28mself\u001b[39m\u001b[38;5;241m.\u001b[39m_reduce_axis \u001b[38;5;241m=\u001b[39m [d \u001b[38;5;28;01mfor\u001b[39;00m d \u001b[38;5;129;01min\u001b[39;00m \u001b[38;5;28mrange\u001b[39m(ndim) \u001b[38;5;28;01mif\u001b[39;00m d \u001b[38;5;129;01mnot\u001b[39;00m \u001b[38;5;129;01min\u001b[39;00m \u001b[38;5;28mself\u001b[39m\u001b[38;5;241m.\u001b[39m_keep_axis]\n",
      "\u001b[1;31mValueError\u001b[0m: All `axis` values to be kept must have known shape. Got axis: (-1,), input shape: [None, None, None, None], with unknown axis at index: 3"
     ]
    }
   ],
   "source": [
    "new_model = load_model('models/BuddhastatueDataimageclassifiervgg16.h5')"
   ]
  },
  {
   "cell_type": "code",
   "execution_count": null,
   "metadata": {
    "colab": {
     "base_uri": "https://localhost:8080/"
    },
    "executionInfo": {
     "elapsed": 12,
     "status": "ok",
     "timestamp": 1665898738450,
     "user": {
      "displayName": "Kanis C",
      "userId": "12699031659889887528"
     },
     "user_tz": -420
    },
    "id": "8Eibwna3TOK5",
    "outputId": "090f087c-e50c-448e-f846-795d10ec0484"
   },
   "outputs": [],
   "source": [
    "!nvidia-smi"
   ]
  },
  {
   "cell_type": "code",
   "execution_count": null,
   "metadata": {
    "colab": {
     "base_uri": "https://localhost:8080/",
     "height": 976
    },
    "executionInfo": {
     "elapsed": 1487,
     "status": "ok",
     "timestamp": 1665899364524,
     "user": {
      "displayName": "Kanis C",
      "userId": "12699031659889887528"
     },
     "user_tz": -420
    },
    "id": "L2wsuFKCVs5w",
    "outputId": "32bf5214-4636-4848-c6e2-d6d827b8b826"
   },
   "outputs": [],
   "source": [
    "from keras.models import Sequential\n",
    "from keras.layers import Dense\n",
    "from keras.utils.vis_utils import plot_model\n",
    "\n",
    "plot_model(model, to_file='model_plot.png', show_shapes=True, show_layer_names=True)"
   ]
  }
 ],
 "metadata": {
  "accelerator": "GPU",
  "colab": {
   "collapsed_sections": [],
   "machine_shape": "hm",
   "provenance": []
  },
  "gpuClass": "premium",
  "kernelspec": {
   "display_name": "Python 3 (ipykernel)",
   "language": "python",
   "name": "python3"
  },
  "language_info": {
   "codemirror_mode": {
    "name": "ipython",
    "version": 3
   },
   "file_extension": ".py",
   "mimetype": "text/x-python",
   "name": "python",
   "nbconvert_exporter": "python",
   "pygments_lexer": "ipython3",
   "version": "3.9.12"
  }
 },
 "nbformat": 4,
 "nbformat_minor": 1
}
